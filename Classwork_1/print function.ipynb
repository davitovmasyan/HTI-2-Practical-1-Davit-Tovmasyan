{
 "cells": [
  {
   "cell_type": "markdown",
   "metadata": {},
   "source": [
    "# print function\n",
    "\n",
    "The print() function prints the specified message to the screen, or other standard output device.\n",
    "\n",
    "The message can be a string, or any other object, the object will be converted into a string before written to the screen.\n",
    "\n",
    "### Syntax\n",
    "```print(object(s), sep=separator, end=end, ...)```"
   ]
  },
  {
   "cell_type": "code",
   "execution_count": 7,
   "metadata": {},
   "outputs": [
    {
     "name": "stdout",
     "output_type": "stream",
     "text": [
      "hello\n",
      "11\n",
      "8.2\n",
      "[1, 2, 5, 6]\n"
     ]
    }
   ],
   "source": [
    "print('hello')\n",
    "print(11)\n",
    "print(8.2)\n",
    "print([1, 2, 5, 6])"
   ]
  },
  {
   "cell_type": "code",
   "execution_count": 8,
   "metadata": {},
   "outputs": [
    {
     "name": "stdout",
     "output_type": "stream",
     "text": [
      "hello 11 8.2\n",
      "hello 11 8.2\n",
      "hello|11|8.2\n",
      "hello118.2\n"
     ]
    }
   ],
   "source": [
    "# we can print multiple objects at once\n",
    "\n",
    "print('hello', 11, 8.2)\n",
    "\n",
    "# default value for `sep` argument is ' '(space)\n",
    "\n",
    "print('hello', 11, 8.2, sep=' ')\n",
    "\n",
    "# changing the value of sep\n",
    "\n",
    "print('hello', 11, 8.2, sep='|')\n",
    "print('hello', 11, 8.2, sep='')"
   ]
  },
  {
   "cell_type": "code",
   "execution_count": 9,
   "metadata": {},
   "outputs": [
    {
     "name": "stdout",
     "output_type": "stream",
     "text": [
      "1. first line\n",
      "2. second line\n",
      "3. first line 4. second line\n",
      "5. first line|6. second line\n"
     ]
    }
   ],
   "source": [
    "# after each print we will have a newline\n",
    "\n",
    "print('1. first line')\n",
    "print('2. second line')\n",
    "\n",
    "# we can configure it using `end` argument\n",
    "\n",
    "print('3. first line', end=' ')\n",
    "print('4. second line')\n",
    "\n",
    "# or\n",
    "\n",
    "print('5. first line', end='|')\n",
    "print('6. second line')"
   ]
  }
 ],
 "metadata": {
  "kernelspec": {
   "display_name": "Python 3",
   "language": "python",
   "name": "python3"
  },
  "language_info": {
   "codemirror_mode": {
    "name": "ipython",
    "version": 3
   },
   "file_extension": ".py",
   "mimetype": "text/x-python",
   "name": "python",
   "nbconvert_exporter": "python",
   "pygments_lexer": "ipython3",
   "version": "3.8.4"
  }
 },
 "nbformat": 4,
 "nbformat_minor": 4
}
