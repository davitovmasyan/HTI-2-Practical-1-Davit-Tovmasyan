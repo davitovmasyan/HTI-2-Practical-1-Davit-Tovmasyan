{
 "cells": [
  {
   "cell_type": "code",
   "execution_count": 1,
   "metadata": {},
   "outputs": [],
   "source": [
    "class Person:\n",
    "    options = {\n",
    "        'M': 'Male',\n",
    "        'F': 'Female',\n",
    "    }\n",
    "    def __init__(self, first_name, last_name, gender):\n",
    "        self.first_name = first_name\n",
    "        self.last_name = last_name\n",
    "        self._gender = None\n",
    "        self.gender = gender\n",
    "\n",
    "    @property\n",
    "    def full_name(self):\n",
    "        return f'{self.first_name} {self.last_name}'\n",
    "    \n",
    "    @property\n",
    "    def gender(self):\n",
    "        return self.options[self._gender]\n",
    "    \n",
    "    @gender.setter\n",
    "    def gender(self, value):\n",
    "        value = value.upper()\n",
    "        if value != 'M' and value != 'F':\n",
    "            raise ValueError('gender must be M or F')\n",
    "            \n",
    "        self._gender = value"
   ]
  },
  {
   "cell_type": "code",
   "execution_count": 4,
   "metadata": {},
   "outputs": [
    {
     "name": "stdout",
     "output_type": "stream",
     "text": [
      "Male\n",
      "Davit Tovmasyan\n"
     ]
    }
   ],
   "source": [
    "p = Person('Davit', 'Tovmasyan', 'M')\n",
    "\n",
    "print(p.gender)\n",
    "print(p.full_name)"
   ]
  },
  {
   "cell_type": "code",
   "execution_count": 5,
   "metadata": {},
   "outputs": [
    {
     "ename": "ValueError",
     "evalue": "gender must be M or F",
     "output_type": "error",
     "traceback": [
      "\u001b[0;31m---------------------------------------------------------------------------\u001b[0m",
      "\u001b[0;31mValueError\u001b[0m                                Traceback (most recent call last)",
      "\u001b[0;32m<ipython-input-5-d8ae67567423>\u001b[0m in \u001b[0;36m<module>\u001b[0;34m\u001b[0m\n\u001b[1;32m      1\u001b[0m \u001b[0mp\u001b[0m \u001b[0;34m=\u001b[0m \u001b[0mPerson\u001b[0m\u001b[0;34m(\u001b[0m\u001b[0;34m'Davit'\u001b[0m\u001b[0;34m,\u001b[0m \u001b[0;34m'Tovmasyan'\u001b[0m\u001b[0;34m,\u001b[0m \u001b[0;34m'M'\u001b[0m\u001b[0;34m)\u001b[0m\u001b[0;34m\u001b[0m\u001b[0;34m\u001b[0m\u001b[0m\n\u001b[1;32m      2\u001b[0m \u001b[0;34m\u001b[0m\u001b[0m\n\u001b[0;32m----> 3\u001b[0;31m \u001b[0mp\u001b[0m\u001b[0;34m.\u001b[0m\u001b[0mgender\u001b[0m \u001b[0;34m=\u001b[0m \u001b[0;34m'A'\u001b[0m\u001b[0;34m\u001b[0m\u001b[0;34m\u001b[0m\u001b[0m\n\u001b[0m",
      "\u001b[0;32m<ipython-input-1-d9b58ecc41c2>\u001b[0m in \u001b[0;36mgender\u001b[0;34m(self, value)\u001b[0m\n\u001b[1;32m     22\u001b[0m         \u001b[0mvalue\u001b[0m \u001b[0;34m=\u001b[0m \u001b[0mvalue\u001b[0m\u001b[0;34m.\u001b[0m\u001b[0mupper\u001b[0m\u001b[0;34m(\u001b[0m\u001b[0;34m)\u001b[0m\u001b[0;34m\u001b[0m\u001b[0;34m\u001b[0m\u001b[0m\n\u001b[1;32m     23\u001b[0m         \u001b[0;32mif\u001b[0m \u001b[0mvalue\u001b[0m \u001b[0;34m!=\u001b[0m \u001b[0;34m'M'\u001b[0m \u001b[0;32mand\u001b[0m \u001b[0mvalue\u001b[0m \u001b[0;34m!=\u001b[0m \u001b[0;34m'F'\u001b[0m\u001b[0;34m:\u001b[0m\u001b[0;34m\u001b[0m\u001b[0;34m\u001b[0m\u001b[0m\n\u001b[0;32m---> 24\u001b[0;31m             \u001b[0;32mraise\u001b[0m \u001b[0mValueError\u001b[0m\u001b[0;34m(\u001b[0m\u001b[0;34m'gender must be M or F'\u001b[0m\u001b[0;34m)\u001b[0m\u001b[0;34m\u001b[0m\u001b[0;34m\u001b[0m\u001b[0m\n\u001b[0m\u001b[1;32m     25\u001b[0m \u001b[0;34m\u001b[0m\u001b[0m\n\u001b[1;32m     26\u001b[0m         \u001b[0mself\u001b[0m\u001b[0;34m.\u001b[0m\u001b[0m_gender\u001b[0m \u001b[0;34m=\u001b[0m \u001b[0mvalue\u001b[0m\u001b[0;34m\u001b[0m\u001b[0;34m\u001b[0m\u001b[0m\n",
      "\u001b[0;31mValueError\u001b[0m: gender must be M or F"
     ]
    }
   ],
   "source": [
    "p = Person('Davit', 'Tovmasyan', 'M')\n",
    "\n",
    "p.gender = 'A'"
   ]
  },
  {
   "cell_type": "code",
   "execution_count": 30,
   "metadata": {},
   "outputs": [],
   "source": [
    "from datetime import date, datetime\n",
    "\n",
    "\n",
    "class Employee(Person):\n",
    "    date_format = '%d.%m.%Y'\n",
    "\n",
    "    def __init__(self, fname, lname, gender, trial_passed, \n",
    "                 salary, j_date, l_date=None):\n",
    "        \n",
    "        super().__init__(fname, lname, gender)\n",
    "\n",
    "        self.trial_passed = trial_passed.lower() == 'yes'\n",
    "        self.salary = int(salary)\n",
    "\n",
    "        self.join_date = datetime.strptime(j_date, self.date_format).date()\n",
    "        if l_date:\n",
    "            self.leave_date = datetime.strptime(l_date, self.date_format).date()\n",
    "        else:\n",
    "            self.leave_date = None\n",
    "            \n",
    "        self._email = None\n",
    "            \n",
    "    @property\n",
    "    def email(self):\n",
    "        if self._email:\n",
    "            return self._email\n",
    "\n",
    "        return f'{self.first_name.lower()}.{self.last_name.lower()}@company.com'\n",
    "            \n",
    "    @email.setter\n",
    "    def email(self, value):\n",
    "        # validate email using regular expression\n",
    "#         if validate_email(value):\n",
    "#             self._email = value\n",
    "\n",
    "        self._email = value\n",
    "            \n",
    "#     @staticmethod\n",
    "#     def validate_email(value):\n",
    "#         # return true or false\n",
    "#         pass\n",
    "    \n",
    "    def employement_duration_in_days(self):\n",
    "        if not self.leave_date:\n",
    "            diff = date.today() - self.join_date\n",
    "        else:\n",
    "            diff = self.leave_date - self.join_date\n",
    "        \n",
    "        return diff.days\n",
    "    \n",
    "    @property\n",
    "    def employement_duration(self):\n",
    "        duration = self.employement_duration_in_days()\n",
    "\n",
    "        if duration < 180:\n",
    "            return 'Just Started'\n",
    "        elif duration < 365:\n",
    "            return 'Almost a year'\n",
    "        else:\n",
    "            return f'{(duration + 180) // 365} years'\n",
    "            \n",
    "        # if duration < 6 months return 'Just Started'\n",
    "        # elif duration < 12 months return 'Almost a year'\n",
    "        # else return 'X years'\n",
    "        \n",
    "    "
   ]
  },
  {
   "cell_type": "code",
   "execution_count": 35,
   "metadata": {},
   "outputs": [],
   "source": [
    "emp = Employee('Davit', 'T', 'M', \n",
    "               trial_passed='YeS', salary='200000', j_date='22.01.2021')\n",
    "\n",
    "# readability counts\n",
    "# explicit is better than implicit"
   ]
  },
  {
   "cell_type": "code",
   "execution_count": 36,
   "metadata": {},
   "outputs": [
    {
     "data": {
      "text/plain": [
       "'Just Started'"
      ]
     },
     "execution_count": 36,
     "metadata": {},
     "output_type": "execute_result"
    }
   ],
   "source": [
    "emp.employement_duration"
   ]
  },
  {
   "cell_type": "code",
   "execution_count": 29,
   "metadata": {},
   "outputs": [
    {
     "data": {
      "text/plain": [
       "365"
      ]
     },
     "execution_count": 29,
     "metadata": {},
     "output_type": "execute_result"
    }
   ],
   "source": [
    "emp.employement_duration_in_days()"
   ]
  },
  {
   "cell_type": "code",
   "execution_count": 22,
   "metadata": {},
   "outputs": [
    {
     "name": "stdout",
     "output_type": "stream",
     "text": [
      "Help on timedelta object:\n",
      "\n",
      "class timedelta(builtins.object)\n",
      " |  Difference between two datetime values.\n",
      " |  \n",
      " |  timedelta(days=0, seconds=0, microseconds=0, milliseconds=0, minutes=0, hours=0, weeks=0)\n",
      " |  \n",
      " |  All arguments are optional and default to 0.\n",
      " |  Arguments may be integers or floats, and may be positive or negative.\n",
      " |  \n",
      " |  Methods defined here:\n",
      " |  \n",
      " |  __abs__(self, /)\n",
      " |      abs(self)\n",
      " |  \n",
      " |  __add__(self, value, /)\n",
      " |      Return self+value.\n",
      " |  \n",
      " |  __bool__(self, /)\n",
      " |      self != 0\n",
      " |  \n",
      " |  __divmod__(self, value, /)\n",
      " |      Return divmod(self, value).\n",
      " |  \n",
      " |  __eq__(self, value, /)\n",
      " |      Return self==value.\n",
      " |  \n",
      " |  __floordiv__(self, value, /)\n",
      " |      Return self//value.\n",
      " |  \n",
      " |  __ge__(self, value, /)\n",
      " |      Return self>=value.\n",
      " |  \n",
      " |  __getattribute__(self, name, /)\n",
      " |      Return getattr(self, name).\n",
      " |  \n",
      " |  __gt__(self, value, /)\n",
      " |      Return self>value.\n",
      " |  \n",
      " |  __hash__(self, /)\n",
      " |      Return hash(self).\n",
      " |  \n",
      " |  __le__(self, value, /)\n",
      " |      Return self<=value.\n",
      " |  \n",
      " |  __lt__(self, value, /)\n",
      " |      Return self<value.\n",
      " |  \n",
      " |  __mod__(self, value, /)\n",
      " |      Return self%value.\n",
      " |  \n",
      " |  __mul__(self, value, /)\n",
      " |      Return self*value.\n",
      " |  \n",
      " |  __ne__(self, value, /)\n",
      " |      Return self!=value.\n",
      " |  \n",
      " |  __neg__(self, /)\n",
      " |      -self\n",
      " |  \n",
      " |  __pos__(self, /)\n",
      " |      +self\n",
      " |  \n",
      " |  __radd__(self, value, /)\n",
      " |      Return value+self.\n",
      " |  \n",
      " |  __rdivmod__(self, value, /)\n",
      " |      Return divmod(value, self).\n",
      " |  \n",
      " |  __reduce__(...)\n",
      " |      __reduce__() -> (cls, state)\n",
      " |  \n",
      " |  __repr__(self, /)\n",
      " |      Return repr(self).\n",
      " |  \n",
      " |  __rfloordiv__(self, value, /)\n",
      " |      Return value//self.\n",
      " |  \n",
      " |  __rmod__(self, value, /)\n",
      " |      Return value%self.\n",
      " |  \n",
      " |  __rmul__(self, value, /)\n",
      " |      Return value*self.\n",
      " |  \n",
      " |  __rsub__(self, value, /)\n",
      " |      Return value-self.\n",
      " |  \n",
      " |  __rtruediv__(self, value, /)\n",
      " |      Return value/self.\n",
      " |  \n",
      " |  __str__(self, /)\n",
      " |      Return str(self).\n",
      " |  \n",
      " |  __sub__(self, value, /)\n",
      " |      Return self-value.\n",
      " |  \n",
      " |  __truediv__(self, value, /)\n",
      " |      Return self/value.\n",
      " |  \n",
      " |  total_seconds(...)\n",
      " |      Total seconds in the duration.\n",
      " |  \n",
      " |  ----------------------------------------------------------------------\n",
      " |  Static methods defined here:\n",
      " |  \n",
      " |  __new__(*args, **kwargs) from builtins.type\n",
      " |      Create and return a new object.  See help(type) for accurate signature.\n",
      " |  \n",
      " |  ----------------------------------------------------------------------\n",
      " |  Data descriptors defined here:\n",
      " |  \n",
      " |  days\n",
      " |      Number of days.\n",
      " |  \n",
      " |  microseconds\n",
      " |      Number of microseconds (>= 0 and less than 1 second).\n",
      " |  \n",
      " |  seconds\n",
      " |      Number of seconds (>= 0 and less than 1 day).\n",
      " |  \n",
      " |  ----------------------------------------------------------------------\n",
      " |  Data and other attributes defined here:\n",
      " |  \n",
      " |  max = datetime.timedelta(days=999999999, seconds=86399, microseconds=9...\n",
      " |  \n",
      " |  min = datetime.timedelta(days=-999999999)\n",
      " |  \n",
      " |  resolution = datetime.timedelta(microseconds=1)\n",
      "\n"
     ]
    }
   ],
   "source": [
    "help(emp.employement_duration_in_days())"
   ]
  },
  {
   "cell_type": "code",
   "execution_count": 18,
   "metadata": {},
   "outputs": [
    {
     "data": {
      "text/plain": [
       "'davit.t@company.com'"
      ]
     },
     "execution_count": 18,
     "metadata": {},
     "output_type": "execute_result"
    }
   ],
   "source": [
    "emp.email"
   ]
  },
  {
   "cell_type": "code",
   "execution_count": 8,
   "metadata": {},
   "outputs": [
    {
     "data": {
      "text/plain": [
       "'Davit T'"
      ]
     },
     "execution_count": 8,
     "metadata": {},
     "output_type": "execute_result"
    }
   ],
   "source": [
    "emp.full_name"
   ]
  },
  {
   "cell_type": "code",
   "execution_count": 9,
   "metadata": {},
   "outputs": [
    {
     "data": {
      "text/plain": [
       "200000"
      ]
     },
     "execution_count": 9,
     "metadata": {},
     "output_type": "execute_result"
    }
   ],
   "source": [
    "emp.salary"
   ]
  },
  {
   "cell_type": "code",
   "execution_count": 10,
   "metadata": {},
   "outputs": [
    {
     "data": {
      "text/plain": [
       "datetime.date(2018, 1, 22)"
      ]
     },
     "execution_count": 10,
     "metadata": {},
     "output_type": "execute_result"
    }
   ],
   "source": [
    "emp.join_date"
   ]
  },
  {
   "cell_type": "code",
   "execution_count": 11,
   "metadata": {},
   "outputs": [
    {
     "data": {
      "text/plain": [
       "True"
      ]
     },
     "execution_count": 11,
     "metadata": {},
     "output_type": "execute_result"
    }
   ],
   "source": [
    "emp.trial_passed"
   ]
  },
  {
   "cell_type": "code",
   "execution_count": 12,
   "metadata": {},
   "outputs": [],
   "source": [
    "emp.leave_date"
   ]
  },
  {
   "cell_type": "code",
   "execution_count": null,
   "metadata": {},
   "outputs": [],
   "source": [
    "# emp = Employee('Davit', 'T', 'M', 'YeS', '200000', '22.01.2018', None, 'abc')\n",
    "# emp = Employee('Davit', 'T', 'M', 'YeS', '200000', '22.01.2018', something='abc')"
   ]
  },
  {
   "cell_type": "code",
   "execution_count": null,
   "metadata": {},
   "outputs": [],
   "source": [
    "# load row into Employee() and get an instance of Employee class"
   ]
  },
  {
   "cell_type": "code",
   "execution_count": 39,
   "metadata": {},
   "outputs": [
    {
     "name": "stdout",
     "output_type": "stream",
     "text": [
      "First Name,Last Name,Trial Passed,Join Date,Leave Date,Gender,Salary\n",
      "\n",
      "<class 'str'>\n",
      "['First Name', 'Last Name', 'Trial Passed', 'Join Date', 'Leave Date', 'Gender', 'Salary\\n']\n"
     ]
    }
   ],
   "source": [
    "with open('/Users/davittovmasyan/Desktop/employees.clean.csv') as f:\n",
    "    for line in f.readlines():\n",
    "        print(line)\n",
    "        print(type(line))\n",
    "        print(line.split(','))\n",
    "        break"
   ]
  },
  {
   "cell_type": "code",
   "execution_count": 42,
   "metadata": {},
   "outputs": [
    {
     "name": "stdout",
     "output_type": "stream",
     "text": [
      "<_csv.reader object at 0x7ff0f502af90>\n",
      "['First Name', 'Last Name', 'Trial Passed', 'Join Date', 'Leave Date', 'Gender', 'Salary']\n"
     ]
    }
   ],
   "source": [
    "import csv \n",
    "\n",
    "with open('/Users/davittovmasyan/Desktop/employees.clean.csv') as f:\n",
    "    reader = csv.reader(f)\n",
    "    print(reader)\n",
    "    \n",
    "    for row in reader:\n",
    "        print(row)\n",
    "        break"
   ]
  },
  {
   "cell_type": "code",
   "execution_count": 43,
   "metadata": {},
   "outputs": [
    {
     "name": "stdout",
     "output_type": "stream",
     "text": [
      "{'First Name': 'Wini', 'Last Name': 'Woodrooffe', 'Trial Passed': 'No', 'Join Date': '06.03.2016', 'Leave Date': '15.08.2016', 'Gender': 'F', 'Salary': '136129'}\n"
     ]
    }
   ],
   "source": [
    "import csv \n",
    "\n",
    "with open('/Users/davittovmasyan/Desktop/employees.clean.csv') as f:\n",
    "    reader = csv.DictReader(f)\n",
    "    \n",
    "    for row in reader:\n",
    "        print(row)\n",
    "        break"
   ]
  },
  {
   "cell_type": "code",
   "execution_count": 44,
   "metadata": {},
   "outputs": [],
   "source": [
    "import csv \n",
    "\n",
    "def employees():\n",
    "    with open('/Users/davittovmasyan/Desktop/employees.clean.csv') as f:\n",
    "        reader = csv.DictReader(f)\n",
    "\n",
    "        for row in reader:\n",
    "            yield Employee(\n",
    "                row['First Name'],\n",
    "                row['Last Name'],\n",
    "                row['Gender'],\n",
    "                row['Trial Passed'],\n",
    "                row['Salary'],\n",
    "                row['Join Date'],\n",
    "                row['Leave Date'],\n",
    "            )"
   ]
  },
  {
   "cell_type": "code",
   "execution_count": 50,
   "metadata": {},
   "outputs": [
    {
     "name": "stdout",
     "output_type": "stream",
     "text": [
      "Wini Woodrooffe\n"
     ]
    }
   ],
   "source": [
    "my_iter = employees()\n",
    "\n",
    "print(next(my_iter).full_name)\n"
   ]
  },
  {
   "cell_type": "code",
   "execution_count": 51,
   "metadata": {},
   "outputs": [],
   "source": [
    "# average salary\n",
    "\n",
    "total_salary = 0\n",
    "total_count = 0\n",
    "\n",
    "for employee in employees():\n",
    "    total_count += 1\n",
    "    total_salary += employee.salary\n"
   ]
  },
  {
   "cell_type": "code",
   "execution_count": 52,
   "metadata": {},
   "outputs": [
    {
     "data": {
      "text/plain": [
       "552831.007"
      ]
     },
     "execution_count": 52,
     "metadata": {},
     "output_type": "execute_result"
    }
   ],
   "source": [
    "total_salary/total_count"
   ]
  },
  {
   "cell_type": "code",
   "execution_count": 54,
   "metadata": {},
   "outputs": [
    {
     "name": "stdout",
     "output_type": "stream",
     "text": [
      "John Petrello 997885\n"
     ]
    }
   ],
   "source": [
    "emp_with_the_highest_salary = None\n",
    "\n",
    "for employee in employees():\n",
    "    if emp_with_the_highest_salary is None:\n",
    "        emp_with_the_highest_salary = employee\n",
    "        continue\n",
    "        \n",
    "    if employee.salary > emp_with_the_highest_salary.salary:\n",
    "        emp_with_the_highest_salary = employee\n",
    "\n",
    "print(emp_with_the_highest_salary.full_name, emp_with_the_highest_salary.salary)"
   ]
  },
  {
   "cell_type": "code",
   "execution_count": 55,
   "metadata": {},
   "outputs": [
    {
     "name": "stdout",
     "output_type": "stream",
     "text": [
      "John Petrello 997885\n"
     ]
    }
   ],
   "source": [
    "i_employee = employees()\n",
    "\n",
    "emp_with_the_highest_salary = next(i_employee)\n",
    "\n",
    "for employee in i_employee:\n",
    "    if employee.salary > emp_with_the_highest_salary.salary:\n",
    "        emp_with_the_highest_salary = employee\n",
    "\n",
    "print(emp_with_the_highest_salary.full_name, emp_with_the_highest_salary.salary)"
   ]
  },
  {
   "cell_type": "code",
   "execution_count": 57,
   "metadata": {},
   "outputs": [],
   "source": [
    "e = max(employees(), key=lambda emp: emp.salary)"
   ]
  },
  {
   "cell_type": "code",
   "execution_count": 59,
   "metadata": {},
   "outputs": [
    {
     "name": "stdout",
     "output_type": "stream",
     "text": [
      "John Petrello 997885\n"
     ]
    }
   ],
   "source": [
    "print(e.full_name, e.salary)"
   ]
  },
  {
   "cell_type": "code",
   "execution_count": 60,
   "metadata": {},
   "outputs": [
    {
     "name": "stdout",
     "output_type": "stream",
     "text": [
      "81.74291666666666\n"
     ]
    }
   ],
   "source": [
    "total_duration = 0\n",
    "total_count = 0\n",
    "\n",
    "\n",
    "for emp in employees():\n",
    "    total_duration += emp.employement_duration_in_days()\n",
    "    total_count += 1\n",
    "    \n",
    "print(total_duration / total_count / 12)"
   ]
  },
  {
   "cell_type": "code",
   "execution_count": 62,
   "metadata": {},
   "outputs": [
    {
     "name": "stdout",
     "output_type": "stream",
     "text": [
      "482\n",
      "518\n"
     ]
    }
   ],
   "source": [
    "total_count = 0\n",
    "male_count = 0\n",
    "\n",
    "for emp in employees():\n",
    "    total_count += 1\n",
    "    \n",
    "    if emp.gender == 'Male':\n",
    "        male_count += 1\n",
    "        \n",
    "female_count = total_count - male_count\n",
    "\n",
    "print(male_count)\n",
    "print(female_count)"
   ]
  },
  {
   "cell_type": "code",
   "execution_count": 65,
   "metadata": {},
   "outputs": [
    {
     "name": "stdout",
     "output_type": "stream",
     "text": [
      "M: 48 %\n",
      "F: 52 %\n"
     ]
    }
   ],
   "source": [
    "print('M:', round((male_count/total_count) * 100), '%')\n",
    "print('F:', round((female_count/total_count) * 100), '%')"
   ]
  },
  {
   "cell_type": "code",
   "execution_count": 66,
   "metadata": {},
   "outputs": [
    {
     "name": "stdout",
     "output_type": "stream",
     "text": [
      "M: ||||||||||||||||||||||||||||||||||||||||||||||||\n",
      "F: ||||||||||||||||||||||||||||||||||||||||||||||||||||\n"
     ]
    }
   ],
   "source": [
    "print('M:', '|' * round((male_count/total_count) * 100))\n",
    "print('F:', '|' * round((female_count/total_count) * 100))"
   ]
  },
  {
   "cell_type": "code",
   "execution_count": 67,
   "metadata": {},
   "outputs": [],
   "source": [
    "# 5 common names with counts\n",
    "\n",
    "names = {}\n",
    "\n",
    "for emp in employees():\n",
    "    if emp.first_name in names.keys():\n",
    "        names[emp.first_name] += 1\n",
    "    else:\n",
    "        names[emp.first_name] = 1\n"
   ]
  },
  {
   "cell_type": "code",
   "execution_count": 74,
   "metadata": {},
   "outputs": [
    {
     "data": {
      "text/plain": [
       "{'Vanya': 5, 'Daria': 4, 'Blondie': 2, 'Hermy': 2, 'Clemens': 2}"
      ]
     },
     "execution_count": 74,
     "metadata": {},
     "output_type": "execute_result"
    }
   ],
   "source": [
    "names['Vanya'] += 3\n",
    "names['Daria'] += 2\n",
    "\n",
    "sorted_names = sorted(names, key=lambda k: names[k], reverse=True)[:5]\n",
    "\n",
    "{name: names[name] for name in sorted_names}"
   ]
  },
  {
   "cell_type": "code",
   "execution_count": 75,
   "metadata": {},
   "outputs": [],
   "source": [
    "from collections import defaultdict"
   ]
  },
  {
   "cell_type": "code",
   "execution_count": 76,
   "metadata": {},
   "outputs": [
    {
     "data": {
      "text/plain": [
       "0"
      ]
     },
     "execution_count": 76,
     "metadata": {},
     "output_type": "execute_result"
    }
   ],
   "source": [
    "d = defaultdict(int)\n",
    "\n",
    "\n",
    "d['some key']"
   ]
  },
  {
   "cell_type": "code",
   "execution_count": 77,
   "metadata": {},
   "outputs": [
    {
     "data": {
      "text/plain": [
       "20"
      ]
     },
     "execution_count": 77,
     "metadata": {},
     "output_type": "execute_result"
    }
   ],
   "source": [
    "d = defaultdict(int)\n",
    "\n",
    "\n",
    "d['some key'] = 20\n",
    "\n",
    "d['some key']"
   ]
  },
  {
   "cell_type": "code",
   "execution_count": 78,
   "metadata": {},
   "outputs": [
    {
     "data": {
      "text/plain": [
       "''"
      ]
     },
     "execution_count": 78,
     "metadata": {},
     "output_type": "execute_result"
    }
   ],
   "source": [
    "d = defaultdict(str)\n",
    "\n",
    "d['some key']"
   ]
  },
  {
   "cell_type": "code",
   "execution_count": 79,
   "metadata": {},
   "outputs": [
    {
     "data": {
      "text/plain": [
       "[]"
      ]
     },
     "execution_count": 79,
     "metadata": {},
     "output_type": "execute_result"
    }
   ],
   "source": [
    "d = defaultdict(list)\n",
    "\n",
    "d['some key']"
   ]
  },
  {
   "cell_type": "code",
   "execution_count": null,
   "metadata": {},
   "outputs": [],
   "source": [
    "names = defaultdict(int)\n",
    "\n",
    "for emp in employees():\n",
    "    names[emp.first_name] += 1\n"
   ]
  },
  {
   "cell_type": "code",
   "execution_count": 80,
   "metadata": {},
   "outputs": [
    {
     "data": {
      "text/plain": [
       "0"
      ]
     },
     "execution_count": 80,
     "metadata": {},
     "output_type": "execute_result"
    }
   ],
   "source": [
    "defaultdict(lambda: 10)\n",
    "\n",
    "int()"
   ]
  },
  {
   "cell_type": "code",
   "execution_count": 81,
   "metadata": {},
   "outputs": [
    {
     "data": {
      "text/plain": [
       "[]"
      ]
     },
     "execution_count": 81,
     "metadata": {},
     "output_type": "execute_result"
    }
   ],
   "source": [
    "list()"
   ]
  },
  {
   "cell_type": "code",
   "execution_count": 82,
   "metadata": {},
   "outputs": [
    {
     "data": {
      "text/plain": [
       "''"
      ]
     },
     "execution_count": 82,
     "metadata": {},
     "output_type": "execute_result"
    }
   ],
   "source": [
    "str()"
   ]
  },
  {
   "cell_type": "code",
   "execution_count": null,
   "metadata": {},
   "outputs": [],
   "source": [
    "defaultdict()"
   ]
  },
  {
   "cell_type": "code",
   "execution_count": null,
   "metadata": {},
   "outputs": [],
   "source": [
    "import csv"
   ]
  },
  {
   "cell_type": "code",
   "execution_count": null,
   "metadata": {},
   "outputs": [],
   "source": []
  },
  {
   "cell_type": "code",
   "execution_count": null,
   "metadata": {},
   "outputs": [],
   "source": [
    "first = False\n",
    "for row in reader:\n",
    "    if not first:\n",
    "        first = True\n",
    "        continue\n",
    "    \n",
    "    p = Employee(\n",
    "        row[]\n",
    "    )\n",
    "    \n",
    "    break\n",
    "    # code here"
   ]
  },
  {
   "cell_type": "code",
   "execution_count": null,
   "metadata": {},
   "outputs": [],
   "source": [
    "next(reader)\n",
    "\n",
    "for row in reader:        \n",
    "    # code here"
   ]
  }
 ],
 "metadata": {
  "kernelspec": {
   "display_name": "Python 3",
   "language": "python",
   "name": "python3"
  },
  "language_info": {
   "codemirror_mode": {
    "name": "ipython",
    "version": 3
   },
   "file_extension": ".py",
   "mimetype": "text/x-python",
   "name": "python",
   "nbconvert_exporter": "python",
   "pygments_lexer": "ipython3",
   "version": "3.8.4"
  }
 },
 "nbformat": 4,
 "nbformat_minor": 4
}
